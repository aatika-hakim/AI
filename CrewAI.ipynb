{
  "nbformat": 4,
  "nbformat_minor": 0,
  "metadata": {
    "colab": {
      "provenance": [],
      "authorship_tag": "ABX9TyNeAdsivml2C2VFEsd82dG1",
      "include_colab_link": true
    },
    "kernelspec": {
      "name": "python3",
      "display_name": "Python 3"
    },
    "language_info": {
      "name": "python"
    }
  },
  "cells": [
    {
      "cell_type": "markdown",
      "metadata": {
        "id": "view-in-github",
        "colab_type": "text"
      },
      "source": [
        "<a href=\"https://colab.research.google.com/github/aatika-hakim/AI/blob/main/CrewAI.ipynb\" target=\"_parent\"><img src=\"https://colab.research.google.com/assets/colab-badge.svg\" alt=\"Open In Colab\"/></a>"
      ]
    },
    {
      "source": [
        "!pip install crewai --upgrade # Update to the latest version of crewai\n",
        "!pip install crewai[all] # Install all dependencies and make sure all classes are available\n",
        "from crewai import Crew  # Import only the Crew class from crewai\n",
        "from google.colab import userdata\n",
        "\n",
        "# Define a function to handle user queries\n",
        "def handle_customer_query(query):\n",
        "  # This is where the chatbot's logic goes\n",
        "  # You can use CrewAI's capabilities to generate responses\n",
        "  # based on the query and your specific business needs.\n",
        "  # For now, let's provide a simple placeholder response.\n",
        "  response = f\"Thank you for your query: {query}. I'm still learning, so I may not have all the answers yet.\"\n",
        "  return response\n",
        "\n",
        "# Initialize the CrewAI Crew\n",
        "crewai = Crew(\n",
        "    app_id=userdata.get(\"CREWAI_APP_ID\"),\n",
        "    api_key=userdata.get(\"CREWAI_API_KEY\"),\n",
        ")\n",
        "\n",
        "# Define a CrewAI agent to handle customer support\n",
        "@crewai.agent()\n",
        "def customer_support_agent(query: str):\n",
        "  \"\"\"Handles customer support queries.\"\"\"\n",
        "  response = handle_customer_query(query)\n",
        "  return response\n",
        "\n",
        "# Start the CrewAI run loop\n",
        "crewai.run()"
      ],
      "cell_type": "code",
      "metadata": {
        "id": "m3FaGii_PSKd"
      },
      "execution_count": null,
      "outputs": []
    },
    {
      "source": [],
      "cell_type": "code",
      "metadata": {
        "id": "UCslWL7jJCMw"
      },
      "execution_count": null,
      "outputs": []
    },
    {
      "source": [
        "crewai.run()"
      ],
      "cell_type": "code",
      "metadata": {
        "id": "Hy00v3UeJDVY"
      },
      "execution_count": null,
      "outputs": []
    }
  ]
}