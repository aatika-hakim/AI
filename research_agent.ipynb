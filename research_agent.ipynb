{
  "nbformat": 4,
  "nbformat_minor": 0,
  "metadata": {
    "colab": {
      "provenance": [],
      "authorship_tag": "ABX9TyMUAo0cCfnKmRVMJ0clxHe2",
      "include_colab_link": true
    },
    "kernelspec": {
      "name": "python3",
      "display_name": "Python 3"
    },
    "language_info": {
      "name": "python"
    }
  },
  "cells": [
    {
      "cell_type": "markdown",
      "metadata": {
        "id": "view-in-github",
        "colab_type": "text"
      },
      "source": [
        "<a href=\"https://colab.research.google.com/github/aatika-hakim/AI/blob/main/research_agent.ipynb\" target=\"_parent\"><img src=\"https://colab.research.google.com/assets/colab-badge.svg\" alt=\"Open In Colab\"/></a>"
      ]
    },
    {
      "cell_type": "code",
      "execution_count": 6,
      "metadata": {
        "id": "7EdyxYQtUSm7"
      },
      "outputs": [],
      "source": [
        "!pip install --upgrade --quiet langchain langchain-community langgraph langchain_google_genai pdfplumber langchain_core"
      ]
    },
    {
      "cell_type": "code",
      "source": [
        "!pip install --q pydantic"
      ],
      "metadata": {
        "id": "UC17WVO4Wm9J"
      },
      "execution_count": 7,
      "outputs": []
    },
    {
      "cell_type": "code",
      "source": [
        "from google.colab import userdata\n",
        "import os\n",
        "import time\n",
        "import json\n",
        "import urllib3\n",
        "import pdfplumber\n",
        "from IPython.display import display, Markdown\n",
        "# from langchain.document_loaders import PyPDFLoader\n",
        "from langchain_core.messages import BaseMessage, SystemMessage, ToolMessage, AIMessage\n",
        "from langchain_google_genai import ChatGoogleGenerativeAI\n",
        "from langgraph.graph import END, StateGraph\n",
        "from langgraph.graph.state import CompiledStateGraph\n",
        "from pydantic import BaseModel, Field\n",
        "from typing import Optional, Annotated, Sequence, ClassVar, TypedDict\n",
        "\n",
        "urllib3.disable_warnings(urllib3.exceptions.InsecureRequestWarning)\n",
        "\n",
        "\n",
        "os.environ['GEMINI_API_KEY'] = userdata.get('GEMINI_API_KEY')"
      ],
      "metadata": {
        "id": "SZuRsgB2Uwsk"
      },
      "execution_count": 8,
      "outputs": []
    }
  ]
}